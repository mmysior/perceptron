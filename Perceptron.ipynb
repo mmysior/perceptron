{
 "cells": [
  {
   "cell_type": "markdown",
   "id": "f39f129c",
   "metadata": {},
   "source": [
    "# Perceptron implementation\n",
    "\n",
    "This code demonstrates basic implementation of a perceptron using NumPy and Pandas packages."
   ]
  },
  {
   "cell_type": "code",
   "execution_count": 1,
   "id": "a2c73f0f",
   "metadata": {},
   "outputs": [],
   "source": [
    "import numpy as np\n",
    "import pandas as pd\n",
    "import matplotlib.pyplot as plt\n",
    "from functions import *\n",
    "\n",
    "#print(help(generate_data))\n",
    "#print(help(get_weighted_sum))\n",
    "#print(help(sigmoid))"
   ]
  },
  {
   "cell_type": "code",
   "execution_count": 2,
   "id": "175fdbcf",
   "metadata": {},
   "outputs": [
    {
     "name": "stdout",
     "output_type": "stream",
     "text": [
      "Features and labels matrix:\n",
      "---------------------------\n",
      "\n",
      "          x0        x1        x2  targets\n",
      "0   0.692743  0.815817  0.344407        1\n",
      "1   0.044838  0.571597  0.146245        0\n",
      "2   0.718771  0.345357  0.457010        1\n",
      "3   0.975938  0.781466  0.843790        0\n",
      "4   0.555114  0.941621  0.018326        1\n",
      "5   0.889184  0.389758  0.231740        1\n",
      "6   0.534394  0.944690  0.330998        1\n",
      "7   0.908621  0.467332  0.967288        0\n",
      "8   0.764227  0.783354  0.361527        0\n",
      "9   0.587788  0.248549  0.800139        1\n",
      "10  0.258527  0.672610  0.075345        1\n",
      "11  0.246870  0.358120  0.172055        1\n",
      "12  0.260295  0.201803  0.039764        0\n",
      "13  0.342869  0.468250  0.417349        1\n",
      "14  0.899524  0.088874  0.623966        1 \n",
      "\n",
      "---------------------------\n",
      "Number of features: 3\n",
      "Number of training examples: 15\n"
     ]
    }
   ],
   "source": [
    "n_features = 3\n",
    "m_examples = 15\n",
    "data = generate_data(m_examples, n_features, seed=15)\n",
    "print('Features and labels matrix:\\n---------------------------\\n')\n",
    "print(data, '\\n\\n---------------------------')\n",
    "X = data.drop(columns=['targets']).values\n",
    "Y = data['targets'].values\n",
    "print(f'Number of features: {X.shape[1]}')\n",
    "print(f'Number of training examples: {X.shape[0]}')"
   ]
  },
  {
   "cell_type": "code",
   "execution_count": 3,
   "id": "eb35dbc0",
   "metadata": {},
   "outputs": [
    {
     "name": "stdout",
     "output_type": "stream",
     "text": [
      "Initial network parameters:\n",
      "w0 = 0.39930576921757277\n",
      "w1 = 0.7174146792882161\n",
      "w2 = 0.2808233280360034\n",
      "b = 0\n"
     ]
    }
   ],
   "source": [
    "weights, bias = network_init(n_features, seed=18)\n",
    "print('Initial network parameters:')\n",
    "for i in range(len(weights)):\n",
    "    print(f'w{i} = {weights[i]}')\n",
    "print(f'b = {bias}')"
   ]
  },
  {
   "cell_type": "markdown",
   "id": "bac99b24",
   "metadata": {},
   "source": [
    "# Forward propagation\n",
    "\n",
    "In this section, forward propagation through the perceptron is performed "
   ]
  },
  {
   "cell_type": "code",
   "execution_count": 4,
   "id": "d216572f",
   "metadata": {},
   "outputs": [
    {
     "name": "stdout",
     "output_type": "stream",
     "text": [
      "Initial forward propagation results:\n",
      "---------------------------\n",
      "\n",
      "    weighted_sum  Y     Y_hat\n",
      "0       0.958613  1  0.722844\n",
      "1       0.469046  0  0.615158\n",
      "2       0.663112  1  0.659959\n",
      "3       1.187289  0  0.766256\n",
      "4       0.902340  1  0.711430\n",
      "5       0.699753  1  0.668133\n",
      "6       0.984073  1  0.727916\n",
      "7       0.969725  0  0.725065\n",
      "8       0.968675  0  0.724855\n",
      "9       0.637718  1  0.654237\n",
      "10      0.606930  1  0.647240\n",
      "11      0.403815  1  0.599604\n",
      "12      0.259881  0  0.564607\n",
      "13      0.590040  1  0.643374\n",
      "14      0.598169  1  0.645237\n"
     ]
    }
   ],
   "source": [
    "def forward_prop(X, weights, bias):\n",
    "    weighted_sums = []\n",
    "    Y_hat = []\n",
    "    for i in range(m_examples):\n",
    "        example = X[i,:]\n",
    "        weighted_sum = get_weighted_sum(example, weights, bias)\n",
    "        weighted_sums.append(weighted_sum)\n",
    "        y_hat = sigmoid(weighted_sum)\n",
    "        Y_hat.append(y_hat)\n",
    "    return Y_hat, weighted_sums\n",
    "\n",
    "Y_hat, weighted_sums = forward_prop(X, weights, bias)\n",
    "initial_pass = pd.DataFrame({'weighted_sum':weighted_sums, 'Y':Y, 'Y_hat':Y_hat})\n",
    "print('Initial forward propagation results:\\n---------------------------\\n')\n",
    "print(initial_pass)"
   ]
  },
  {
   "cell_type": "markdown",
   "id": "b0a728e0",
   "metadata": {},
   "source": [
    "## Cross-entropy loss"
   ]
  },
  {
   "cell_type": "code",
   "execution_count": 5,
   "id": "e12e9f40",
   "metadata": {},
   "outputs": [
    {
     "name": "stdout",
     "output_type": "stream",
     "text": [
      "    Y     Y_hat  c-e loss\n",
      "0   1  0.722844  0.140955\n",
      "1   0  0.615158  0.414717\n",
      "2   1  0.659959  0.180483\n",
      "3   0  0.766256  0.631259\n",
      "4   1  0.711430  0.147868\n",
      "5   1  0.668133  0.175137\n",
      "6   1  0.727916  0.137919\n",
      "7   0  0.725065  0.560770\n",
      "8   0  0.724855  0.560439\n",
      "9   1  0.654237  0.184265\n",
      "10  1  0.647240  0.188935\n",
      "11  1  0.599604  0.222136\n",
      "12  0  0.564607  0.361119\n",
      "13  1  0.643374  0.191536\n",
      "14  1  0.645237  0.190281\n"
     ]
    }
   ],
   "source": [
    "def cross_entropy(Y, Y_hat):\n",
    "    cost = []\n",
    "    for i in range(len(Y)):\n",
    "        y = Y[i]\n",
    "        y_hat = Y_hat[i]\n",
    "        cross_entropy_loss = -(y*np.log10(y_hat) + (1-y)*np.log10(1-y_hat))\n",
    "        cost.append(cross_entropy_loss)\n",
    "    return cost\n",
    "cross_entropy_cost = cross_entropy(Y, Y_hat)\n",
    "\n",
    "initial_pass_with_cost = initial_pass.copy()\n",
    "initial_pass_with_cost.drop(columns=['weighted_sum'], inplace=True)\n",
    "initial_pass_with_cost['c-e loss'] = cross_entropy_cost\n",
    "print(initial_pass_with_cost)"
   ]
  }
 ],
 "metadata": {
  "kernelspec": {
   "display_name": "Python 3 (ipykernel)",
   "language": "python",
   "name": "python3"
  },
  "language_info": {
   "codemirror_mode": {
    "name": "ipython",
    "version": 3
   },
   "file_extension": ".py",
   "mimetype": "text/x-python",
   "name": "python",
   "nbconvert_exporter": "python",
   "pygments_lexer": "ipython3",
   "version": "3.10.13"
  }
 },
 "nbformat": 4,
 "nbformat_minor": 5
}
