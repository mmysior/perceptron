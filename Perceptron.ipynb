{
 "cells": [
  {
   "cell_type": "markdown",
   "id": "f39f129c",
   "metadata": {},
   "source": [
    "# Perceptron implementation\n",
    "\n",
    "This code demonstrates basic implementation of a perceptron using NumPy and Pandas packages."
   ]
  },
  {
   "cell_type": "code",
   "execution_count": 1,
   "id": "a2c73f0f",
   "metadata": {},
   "outputs": [],
   "source": [
    "import numpy as np\n",
    "import pandas as pd\n",
    "import matplotlib.pyplot as plt\n",
    "from functions import *\n",
    "\n",
    "#print(help(generate_data))\n",
    "#print(help(get_weighted_sum))\n",
    "#print(help(sigmoid))"
   ]
  },
  {
   "cell_type": "code",
   "execution_count": 2,
   "id": "175fdbcf",
   "metadata": {},
   "outputs": [
    {
     "name": "stdout",
     "output_type": "stream",
     "text": [
      "Features and labels matrix:\n",
      "---------------------------\n",
      "\n",
      "         x0        x1        x2  targets\n",
      "0  0.692743  0.815817  0.344407        0\n",
      "1  0.044838  0.571597  0.146245        1\n",
      "2  0.718771  0.345357  0.457010        1\n",
      "3  0.975938  0.781466  0.843790        1 \n",
      "\n",
      "---------------------------\n",
      "Number of features: 3\n",
      "Number of training examples: 4\n"
     ]
    }
   ],
   "source": [
    "n_features = 3\n",
    "m_examples = 4\n",
    "data = generate_data(m_examples, n_features, seed=15)\n",
    "print('Features and labels matrix:\\n---------------------------\\n')\n",
    "print(data, '\\n\\n---------------------------')\n",
    "X = data.drop(columns=['targets']).values\n",
    "Y = data['targets'].values\n",
    "print(f'Number of features: {X.shape[1]}')\n",
    "print(f'Number of training examples: {X.shape[0]}')"
   ]
  },
  {
   "cell_type": "code",
   "execution_count": 3,
   "id": "eb35dbc0",
   "metadata": {},
   "outputs": [
    {
     "name": "stdout",
     "output_type": "stream",
     "text": [
      "Initial network parameters:\n",
      "w0 = 0.39930576921757277\n",
      "w1 = 0.7174146792882161\n",
      "w2 = 0.2808233280360034\n",
      "b = 0\n"
     ]
    }
   ],
   "source": [
    "weights, bias = network_init(n_features, seed=18)\n",
    "print('Initial network parameters:')\n",
    "for i in range(len(weights)):\n",
    "    print(f'w{i} = {weights[i]}')\n",
    "print(f'b = {bias}')"
   ]
  },
  {
   "cell_type": "markdown",
   "id": "bac99b24",
   "metadata": {},
   "source": [
    "# Forward propagation\n",
    "\n",
    "In this section, forward propagation through the perceptron is performed "
   ]
  },
  {
   "cell_type": "code",
   "execution_count": 4,
   "id": "d216572f",
   "metadata": {},
   "outputs": [
    {
     "name": "stdout",
     "output_type": "stream",
     "text": [
      "Initial forward propagation results:\n",
      "---------------------------\n",
      "\n",
      "   weighted_sum  Y     Y_hat\n",
      "0      0.958613  0  0.722844\n",
      "1      0.469046  1  0.615158\n",
      "2      0.663112  1  0.659959\n",
      "3      1.187289  1  0.766256\n"
     ]
    }
   ],
   "source": [
    "def forward_prop(X, weights, bias):\n",
    "    weighted_sums = []\n",
    "    Y_hat = []\n",
    "    for i in range(m_examples):\n",
    "        example = X[i,:]\n",
    "        weighted_sum = get_weighted_sum(example, weights, bias)\n",
    "        weighted_sums.append(weighted_sum)\n",
    "        y_hat = sigmoid(weighted_sum)\n",
    "        Y_hat.append(y_hat)\n",
    "    return Y_hat, weighted_sums\n",
    "\n",
    "Y_hat, weighted_sums = forward_prop(X, weights, bias)\n",
    "initial_pass = pd.DataFrame({'weighted_sum':weighted_sums, 'Y':Y, 'Y_hat':Y_hat})\n",
    "print('Initial forward propagation results:\\n---------------------------\\n')\n",
    "print(initial_pass)"
   ]
  },
  {
   "cell_type": "markdown",
   "id": "b0a728e0",
   "metadata": {},
   "source": [
    "## Cross-entropy loss"
   ]
  },
  {
   "cell_type": "code",
   "execution_count": 5,
   "id": "e12e9f40",
   "metadata": {},
   "outputs": [
    {
     "name": "stdout",
     "output_type": "stream",
     "text": [
      "   Y     Y_hat  c-e loss\n",
      "0  0  0.722844  0.557276\n",
      "1  1  0.615158  0.211013\n",
      "2  1  0.659959  0.180483\n",
      "3  1  0.766256  0.115626\n"
     ]
    }
   ],
   "source": [
    "def cross_entropy(Y, Y_hat):\n",
    "    cost = []\n",
    "    for i in range(len(Y)):\n",
    "        y = Y[i]\n",
    "        y_hat = Y_hat[i]\n",
    "        cross_entropy_loss = -(y*np.log10(y_hat) + (1-y)*np.log10(1-y_hat))\n",
    "        cost.append(cross_entropy_loss)\n",
    "    return cost\n",
    "cross_entropy_cost = cross_entropy(Y, Y_hat)\n",
    "\n",
    "initial_pass_with_cost = initial_pass.copy()\n",
    "initial_pass_with_cost.drop(columns=['weighted_sum'], inplace=True)\n",
    "initial_pass_with_cost['c-e loss'] = cross_entropy_cost\n",
    "print(initial_pass_with_cost)"
   ]
  },
  {
   "cell_type": "markdown",
   "id": "fb62c945",
   "metadata": {},
   "source": [
    "## Network training\n",
    "\n",
    "This training algorithm updates weights and bias after each pass through the training data. It means, that after each training example, weights and bias are updated."
   ]
  },
  {
   "cell_type": "code",
   "execution_count": 14,
   "id": "c1901849",
   "metadata": {},
   "outputs": [
    {
     "data": {
      "image/png": "[encoded data removed]",
      "text/plain": [
       "<Figure size 640x480 with 1 Axes>"
      ]
     },
     "metadata": {},
     "output_type": "display_data"
    }
   ],
   "source": [
    "learning_rate = 0.1\n",
    "epochs = 65000\n",
    "\n",
    "def cross_entropy_loss(y, y_hat):\n",
    "    return -(y*np.log10(y_hat) + (1-y)*np.log10(1-y_hat))\n",
    "\n",
    "def update_weights(weights, alpha, target, prediction, feature):\n",
    "    return [w + alpha*(target-prediction)*x for x, w in zip(feature, weights)]\n",
    "\n",
    "def update_bias(bias, alpha, y, y_hat):\n",
    "    return bias + alpha*(y-y_hat)\n",
    "        \n",
    "def train_model(X, Y, alpha=0.01, n_epoch=100):\n",
    "    W, b = network_init(n_features, seed=18)\n",
    "    epoch_cost = []\n",
    "    for e in range(n_epoch):\n",
    "        m = X.shape[0]\n",
    "        individual_loss = []\n",
    "        for i in range(m):\n",
    "            x = X[i]\n",
    "            y = Y[i]\n",
    "            w_sum = get_weighted_sum(x, W, b)\n",
    "            y_hat = sigmoid(w_sum)\n",
    "            loss = cross_entropy_loss(y, y_hat)\n",
    "            individual_loss.append(loss)\n",
    "            # gradient descent\n",
    "            W = update_weights(W, alpha, y, y_hat, x)\n",
    "            b = update_bias(b, alpha, Y[i], y_hat)\n",
    "        average_cost = sum(individual_loss)/len(individual_loss)\n",
    "        epoch_cost.append(average_cost)\n",
    "    return weights, bias, epoch_cost\n",
    "        \n",
    "final_weights, final_bias, epoch_cost = train_model(X, Y, n_epoch=epochs)\n",
    "\n",
    "training_data = pd.DataFrame(epoch_cost)\n",
    "training_data_plot = training_data.plot(kind=\"line\", grid=True)\n",
    "training_data_plot;"
   ]
  },
  {
   "cell_type": "code",
   "execution_count": 15,
   "id": "076f7249",
   "metadata": {},
   "outputs": [
    {
     "name": "stdout",
     "output_type": "stream",
     "text": [
      "Initial forward propagation results:\n",
      "---------------------------\n",
      "\n",
      "   weighted_sum  Y     Y_hat\n",
      "0      0.958613  0  0.722844\n",
      "1      0.469046  1  0.615158\n",
      "2      0.663112  1  0.659959\n",
      "3      1.187289  1  0.766256\n"
     ]
    }
   ],
   "source": [
    "Y_hat_final, _ = forward_prop(X, final_weights, final_bias)\n",
    "final_pass = pd.DataFrame({'Y':Y, 'Y_hat_final':Y_hat_final})\n",
    "print('Initial forward propagation results:\\n---------------------------\\n')\n",
    "print(initial_pass)"
   ]
  },
  {
   "cell_type": "code",
   "execution_count": null,
   "id": "d3087283",
   "metadata": {},
   "outputs": [],
   "source": []
  }
 ],
 "metadata": {
  "kernelspec": {
   "display_name": "Python 3 (ipykernel)",
   "language": "python",
   "name": "python3"
  },
  "language_info": {
   "codemirror_mode": {
    "name": "ipython",
    "version": 3
   },
   "file_extension": ".py",
   "mimetype": "text/x-python",
   "name": "python",
   "nbconvert_exporter": "python",
   "pygments_lexer": "ipython3",
   "version": "3.10.13"
  }
 },
 "nbformat": 4,
 "nbformat_minor": 5
}
